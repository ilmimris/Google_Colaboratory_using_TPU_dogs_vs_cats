{
  "nbformat": 4,
  "nbformat_minor": 0,
  "metadata": {
    "colab": {
      "name": "Google_Colaboratory_using_TPU_dogs_vs_cats.ipynb",
      "version": "0.3.2",
      "provenance": [],
      "collapsed_sections": [],
      "include_colab_link": true
    },
    "kernelspec": {
      "name": "python3",
      "display_name": "Python 3"
    },
    "accelerator": "TPU"
  },
  "cells": [
    {
      "cell_type": "markdown",
      "metadata": {
        "id": "view-in-github",
        "colab_type": "text"
      },
      "source": [
        "[View in Colaboratory](https://colab.research.google.com/github/ilmimris/Google_Colaboratory_using_TPU_dogs_vs_cats/blob/master/Google_Colaboratory_using_TPU_dogs_vs_cats.ipynb)"
      ]
    },
    {
      "metadata": {
        "id": "lEKWKKhPJCZk",
        "colab_type": "text"
      },
      "cell_type": "markdown",
      "source": [
        "# Import Library"
      ]
    },
    {
      "metadata": {
        "id": "xS0W-sYR9sNz",
        "colab_type": "code",
        "colab": {
          "base_uri": "https://localhost:8080/",
          "height": 34
        },
        "outputId": "08075539-745a-4a7c-b2ce-69edfd04dd63"
      },
      "cell_type": "code",
      "source": [
        "from tensorflow.keras import layers,models\n",
        "from keras.preprocessing.image import ImageDataGenerator\n",
        "import tensorflow as tf"
      ],
      "execution_count": 1,
      "outputs": [
        {
          "output_type": "stream",
          "text": [
            "Using TensorFlow backend.\n"
          ],
          "name": "stderr"
        }
      ]
    },
    {
      "metadata": {
        "id": "GuxWRrarFTAN",
        "colab_type": "code",
        "colab": {}
      },
      "cell_type": "code",
      "source": [
        "import os, cv2, re, random\n",
        "import numpy as np\n",
        "from random import shuffle \n",
        "from tqdm import tqdm"
      ],
      "execution_count": 0,
      "outputs": []
    },
    {
      "metadata": {
        "id": "NpqOpNMARoOU",
        "colab_type": "code",
        "colab": {}
      },
      "cell_type": "code",
      "source": [
        "from keras.preprocessing.image import img_to_array, load_img\n",
        "from keras import optimizers\n",
        "from keras import backend as K\n",
        "from sklearn.model_selection import train_test_split"
      ],
      "execution_count": 0,
      "outputs": []
    },
    {
      "metadata": {
        "id": "H4NQW-mnI8WX",
        "colab_type": "text"
      },
      "cell_type": "markdown",
      "source": [
        "# Download data from `Kaggle`"
      ]
    },
    {
      "metadata": {
        "id": "TqeEClwwCfvQ",
        "colab_type": "code",
        "colab": {}
      },
      "cell_type": "code",
      "source": [
        "os.chdir('/content')"
      ],
      "execution_count": 0,
      "outputs": []
    },
    {
      "metadata": {
        "id": "z0-GMC69BM55",
        "colab_type": "code",
        "colab": {
          "base_uri": "https://localhost:8080/",
          "height": 51
        },
        "outputId": "b3dcd358-350e-4ec9-e858-e88be55d1c5b"
      },
      "cell_type": "code",
      "source": [
        "!mkdir .kaggle\n",
        "!mkdir dogs-vs-cats"
      ],
      "execution_count": 5,
      "outputs": [
        {
          "output_type": "stream",
          "text": [
            "mkdir: cannot create directory ‘.kaggle’: File exists\n",
            "mkdir: cannot create directory ‘dogs-vs-cats’: File exists\n"
          ],
          "name": "stdout"
        }
      ]
    },
    {
      "metadata": {
        "id": "9CoXafsVAeHA",
        "colab_type": "code",
        "colab": {}
      },
      "cell_type": "code",
      "source": [
        "api_token = {\"username\":\"ilmimris\",\"key\":\"09e2cb3454f22a1c7df3e52e532f9383\"} # YOUR KAGGLE API KEY \n",
        "import json\n",
        "import zipfile\n",
        "import os\n",
        "with open('/content/.kaggle/kaggle.json', 'w') as file:\n",
        "    json.dump(api_token, file)"
      ],
      "execution_count": 0,
      "outputs": []
    },
    {
      "metadata": {
        "id": "U9kvQAYIOkos",
        "colab_type": "code",
        "colab": {}
      },
      "cell_type": "code",
      "source": [
        "!mkdir ~/.kaggle\n",
        "!cp /content/.kaggle/kaggle.json ~/.kaggle/kaggle.json"
      ],
      "execution_count": 0,
      "outputs": []
    },
    {
      "metadata": {
        "id": "05RoNjoKB--Q",
        "colab_type": "code",
        "colab": {}
      },
      "cell_type": "code",
      "source": [
        "!pip install kaggle\n",
        "os.chdir('/content/dogs-vs-cats')\n",
        "!kaggle competitions download -c dogs-vs-cats\n",
        "\n"
      ],
      "execution_count": 0,
      "outputs": []
    },
    {
      "metadata": {
        "id": "VXEB9MzIJTVl",
        "colab_type": "text"
      },
      "cell_type": "markdown",
      "source": [
        "# Extract data from zip"
      ]
    },
    {
      "metadata": {
        "id": "nVTT3NriRLzM",
        "colab_type": "code",
        "colab": {}
      },
      "cell_type": "code",
      "source": [
        "!rm -rf sampleSubmission.csv train test1"
      ],
      "execution_count": 0,
      "outputs": []
    },
    {
      "metadata": {
        "id": "HoyeJ2CECMpo",
        "colab_type": "code",
        "colab": {}
      },
      "cell_type": "code",
      "source": [
        "for file in os.listdir():\n",
        "    zip_ref = zipfile.ZipFile(file, 'r')\n",
        "    zip_ref.extractall()\n",
        "    zip_ref.close()"
      ],
      "execution_count": 0,
      "outputs": []
    },
    {
      "metadata": {
        "id": "frT2bICpPGLK",
        "colab_type": "text"
      },
      "cell_type": "markdown",
      "source": [
        "# Load data"
      ]
    },
    {
      "metadata": {
        "id": "2UV2ja0xPI-l",
        "colab_type": "code",
        "colab": {}
      },
      "cell_type": "code",
      "source": [
        "img_width = 150\n",
        "img_height = 150\n",
        "TRAIN_DIR = './train/'\n",
        "TEST_DIR = './test1/'\n",
        "train_images_dogs_cats = [TRAIN_DIR+i for i in os.listdir(TRAIN_DIR)] # use this for full dataset\n",
        "test_images_dogs_cats = [TEST_DIR+i for i in os.listdir(TEST_DIR)]"
      ],
      "execution_count": 0,
      "outputs": []
    },
    {
      "metadata": {
        "id": "sVkTSVQaPjA3",
        "colab_type": "text"
      },
      "cell_type": "markdown",
      "source": [
        "Helper function to sort the image files based on the numeric value in each file name."
      ]
    },
    {
      "metadata": {
        "id": "n8EuuSoXPfKs",
        "colab_type": "code",
        "colab": {}
      },
      "cell_type": "code",
      "source": [
        "def atoi(text):\n",
        "    return int(text) if text.isdigit() else text\n",
        "\n",
        "def natural_keys(text):\n",
        "    return [ atoi(c) for c in re.split('(\\d+)', text) ]"
      ],
      "execution_count": 0,
      "outputs": []
    },
    {
      "metadata": {
        "id": "5Ysn7dp1PkHF",
        "colab_type": "text"
      },
      "cell_type": "markdown",
      "source": [
        "Sort the traning set. Use 1300 images each of cats and dogs instead of all 25000 to speed up the learning process.\n",
        "\n",
        "Sort the test set"
      ]
    },
    {
      "metadata": {
        "id": "uQ9RqDEiPgIE",
        "colab_type": "code",
        "colab": {}
      },
      "cell_type": "code",
      "source": [
        "train_images_dogs_cats.sort(key=natural_keys)\n",
        "train_images_dogs_cats = train_images_dogs_cats[0:1300] + train_images_dogs_cats[12500:13800] \n",
        "\n",
        "test_images_dogs_cats.sort(key=natural_keys)"
      ],
      "execution_count": 0,
      "outputs": []
    },
    {
      "metadata": {
        "id": "BotexJDxPo9l",
        "colab_type": "text"
      },
      "cell_type": "markdown",
      "source": [
        "Now the images have to be represented in numbers. For this, using the openCV library read and resize the image.\n",
        "\n",
        "Generate labels for the supervised learning set.\n",
        "\n",
        "Below is the helper function to do so."
      ]
    },
    {
      "metadata": {
        "id": "ntPSafSWPoie",
        "colab_type": "code",
        "colab": {}
      },
      "cell_type": "code",
      "source": [
        "def prepare_data(list_of_images):\n",
        "    \"\"\"\n",
        "    Returns two arrays: \n",
        "        x is an array of resized images\n",
        "        y is an array of labels\n",
        "    \"\"\"\n",
        "    x = [] # images as arrays\n",
        "    y = [] # labels\n",
        "    \n",
        "    for image in list_of_images:\n",
        "        x.append(cv2.resize(cv2.imread(image), (img_width,img_height), interpolation=cv2.INTER_CUBIC))\n",
        "    \n",
        "    for i in list_of_images:\n",
        "        if 'dog' in i:\n",
        "            y.append(1)\n",
        "        elif 'cat' in i:\n",
        "            y.append(0)\n",
        "        #else:\n",
        "            #print('neither cat nor dog name present in images')\n",
        "            \n",
        "    return x, y"
      ],
      "execution_count": 0,
      "outputs": []
    },
    {
      "metadata": {
        "id": "2UQ3U2dzPvoa",
        "colab_type": "text"
      },
      "cell_type": "markdown",
      "source": [
        "Generate X and Y using the helper function above\n",
        "\n",
        "Since K.image_data_format() is channel_last, input_shape to the first keras layer will be (img_width, img_height, 3). '3' since it is a color image"
      ]
    },
    {
      "metadata": {
        "id": "wSsF6YGrPx7e",
        "colab_type": "code",
        "colab": {
          "base_uri": "https://localhost:8080/",
          "height": 34
        },
        "outputId": "787f0362-5828-43d1-9ad2-faa917b77049"
      },
      "cell_type": "code",
      "source": [
        "X, Y = prepare_data(train_images_dogs_cats)\n",
        "print(K.image_data_format())"
      ],
      "execution_count": 15,
      "outputs": [
        {
          "output_type": "stream",
          "text": [
            "channels_last\n"
          ],
          "name": "stdout"
        }
      ]
    },
    {
      "metadata": {
        "id": "1ueOeQ55P1EX",
        "colab_type": "text"
      },
      "cell_type": "markdown",
      "source": [
        "Split the data set containing 2600 images into 2 parts, training set and validation set. Later, you will see that accuracy and loss on the validation set will also be reported while fitting the model using training set."
      ]
    },
    {
      "metadata": {
        "id": "VjXRut51P17N",
        "colab_type": "code",
        "colab": {}
      },
      "cell_type": "code",
      "source": [
        "# First split the data in two sets, 80% for training, 20% for Val/Test)\n",
        "X_train, X_val, Y_train, Y_val = train_test_split(X,Y, test_size=0.2, random_state=1)"
      ],
      "execution_count": 0,
      "outputs": []
    },
    {
      "metadata": {
        "id": "DXsTNr5hP5vf",
        "colab_type": "code",
        "colab": {}
      },
      "cell_type": "code",
      "source": [
        "nb_train_samples = len(X_train)\n",
        "nb_validation_samples = len(X_val)\n",
        "batch_size = 16"
      ],
      "execution_count": 0,
      "outputs": []
    },
    {
      "metadata": {
        "id": "4jVPbQY9J-in",
        "colab_type": "text"
      },
      "cell_type": "markdown",
      "source": [
        "# Create Model"
      ]
    },
    {
      "metadata": {
        "id": "bev_LA7h9YD5",
        "colab_type": "code",
        "colab": {
          "base_uri": "https://localhost:8080/",
          "height": 646
        },
        "outputId": "62431a14-f895-4602-ef28-614c370bc38c"
      },
      "cell_type": "code",
      "source": [
        "model = models.Sequential()\n",
        "\n",
        "model.add(layers.Conv2D(32, (3, 3), input_shape=(img_width, img_height, 3)))\n",
        "model.add(layers.Activation('relu'))\n",
        "model.add(layers.MaxPooling2D(pool_size=(2, 2)))\n",
        "\n",
        "model.add(layers.Conv2D(32, (3, 3)))\n",
        "model.add(layers.Activation('relu'))\n",
        "model.add(layers.MaxPooling2D(pool_size=(2, 2)))\n",
        "\n",
        "model.add(layers.Conv2D(64, (3, 3)))\n",
        "model.add(layers.Activation('relu'))\n",
        "model.add(layers.MaxPooling2D(pool_size=(2, 2)))\n",
        "\n",
        "model.add(layers.Flatten())\n",
        "model.add(layers.Dense(64))\n",
        "model.add(layers.Activation('relu'))\n",
        "model.add(layers.Dropout(0.5))\n",
        "model.add(layers.Dense(1))\n",
        "model.add(layers.Activation('sigmoid'))\n",
        "\n",
        "model.compile(loss='binary_crossentropy',\n",
        "              optimizer='rmsprop',\n",
        "              metrics=['accuracy'])\n",
        "model.summary()"
      ],
      "execution_count": 18,
      "outputs": [
        {
          "output_type": "stream",
          "text": [
            "_________________________________________________________________\n",
            "Layer (type)                 Output Shape              Param #   \n",
            "=================================================================\n",
            "conv2d (Conv2D)              (None, 148, 148, 32)      896       \n",
            "_________________________________________________________________\n",
            "activation (Activation)      (None, 148, 148, 32)      0         \n",
            "_________________________________________________________________\n",
            "max_pooling2d (MaxPooling2D) (None, 74, 74, 32)        0         \n",
            "_________________________________________________________________\n",
            "conv2d_1 (Conv2D)            (None, 72, 72, 32)        9248      \n",
            "_________________________________________________________________\n",
            "activation_1 (Activation)    (None, 72, 72, 32)        0         \n",
            "_________________________________________________________________\n",
            "max_pooling2d_1 (MaxPooling2 (None, 36, 36, 32)        0         \n",
            "_________________________________________________________________\n",
            "conv2d_2 (Conv2D)            (None, 34, 34, 64)        18496     \n",
            "_________________________________________________________________\n",
            "activation_2 (Activation)    (None, 34, 34, 64)        0         \n",
            "_________________________________________________________________\n",
            "max_pooling2d_2 (MaxPooling2 (None, 17, 17, 64)        0         \n",
            "_________________________________________________________________\n",
            "flatten (Flatten)            (None, 18496)             0         \n",
            "_________________________________________________________________\n",
            "dense (Dense)                (None, 64)                1183808   \n",
            "_________________________________________________________________\n",
            "activation_3 (Activation)    (None, 64)                0         \n",
            "_________________________________________________________________\n",
            "dropout (Dropout)            (None, 64)                0         \n",
            "_________________________________________________________________\n",
            "dense_1 (Dense)              (None, 1)                 65        \n",
            "_________________________________________________________________\n",
            "activation_4 (Activation)    (None, 1)                 0         \n",
            "=================================================================\n",
            "Total params: 1,212,513\n",
            "Trainable params: 1,212,513\n",
            "Non-trainable params: 0\n",
            "_________________________________________________________________\n"
          ],
          "name": "stdout"
        }
      ]
    },
    {
      "metadata": {
        "id": "kiARKQQyMYQu",
        "colab_type": "text"
      },
      "cell_type": "markdown",
      "source": [
        "## Generate Augmentation Data"
      ]
    },
    {
      "metadata": {
        "id": "iYsN2JXQMaj1",
        "colab_type": "code",
        "colab": {}
      },
      "cell_type": "code",
      "source": [
        "train_datagen = ImageDataGenerator(\n",
        "    rescale=1. / 255,\n",
        "    shear_range=0.2,\n",
        "    zoom_range=0.2,\n",
        "    horizontal_flip=True)\n",
        "\n",
        "val_datagen = ImageDataGenerator(\n",
        "    rescale=1. / 255,\n",
        "    shear_range=0.2,\n",
        "    zoom_range=0.2,\n",
        "    horizontal_flip=True)"
      ],
      "execution_count": 0,
      "outputs": []
    },
    {
      "metadata": {
        "id": "UbGNSB5YO2T-",
        "colab_type": "code",
        "colab": {}
      },
      "cell_type": "code",
      "source": [
        "train_generator = train_datagen.flow(np.array(X_train), Y_train, batch_size=batch_size)\n",
        "validation_generator = val_datagen.flow(np.array(X_val), Y_val, batch_size=batch_size)"
      ],
      "execution_count": 0,
      "outputs": []
    },
    {
      "metadata": {
        "id": "EzXeh4ayMT79",
        "colab_type": "text"
      },
      "cell_type": "markdown",
      "source": [
        "## Convert to TPU MODEL"
      ]
    },
    {
      "metadata": {
        "id": "To-N5dvTMTcP",
        "colab_type": "code",
        "colab": {
          "base_uri": "https://localhost:8080/",
          "height": 360
        },
        "outputId": "9ad9b1e4-9f3e-4d74-9656-cca3e79f3bb5"
      },
      "cell_type": "code",
      "source": [
        "tpu_model = tf.contrib.tpu.keras_to_tpu_model(\n",
        "    model,\n",
        "    strategy=tf.contrib.tpu.TPUDistributionStrategy(\n",
        "        tf.contrib.cluster_resolver.TPUClusterResolver(tpu=\"grpc://\" + os.environ['COLAB_TPU_ADDR'])))"
      ],
      "execution_count": 21,
      "outputs": [
        {
          "output_type": "stream",
          "text": [
            "INFO:tensorflow:Querying Tensorflow master (b'grpc://10.112.192.154:8470') for TPU system metadata.\n",
            "INFO:tensorflow:Found TPU system:\n",
            "INFO:tensorflow:*** Num TPU Cores: 8\n",
            "INFO:tensorflow:*** Num TPU Workers: 1\n",
            "INFO:tensorflow:*** Num TPU Cores Per Worker: 8\n",
            "INFO:tensorflow:*** Available Device: _DeviceAttributes(/job:worker/replica:0/task:0/device:CPU:0, CPU, -1, 3340581412962874290)\n",
            "INFO:tensorflow:*** Available Device: _DeviceAttributes(/job:worker/replica:0/task:0/device:XLA_CPU:0, XLA_CPU, 17179869184, 3148344655408965577)\n",
            "INFO:tensorflow:*** Available Device: _DeviceAttributes(/job:worker/replica:0/task:0/device:XLA_GPU:0, XLA_GPU, 17179869184, 12528470306301961677)\n",
            "INFO:tensorflow:*** Available Device: _DeviceAttributes(/job:worker/replica:0/task:0/device:TPU:0, TPU, 17179869184, 13923652748522337962)\n",
            "INFO:tensorflow:*** Available Device: _DeviceAttributes(/job:worker/replica:0/task:0/device:TPU:1, TPU, 17179869184, 16460352434833523640)\n",
            "INFO:tensorflow:*** Available Device: _DeviceAttributes(/job:worker/replica:0/task:0/device:TPU:2, TPU, 17179869184, 14939278735090524050)\n",
            "INFO:tensorflow:*** Available Device: _DeviceAttributes(/job:worker/replica:0/task:0/device:TPU:3, TPU, 17179869184, 12593380584549617580)\n",
            "INFO:tensorflow:*** Available Device: _DeviceAttributes(/job:worker/replica:0/task:0/device:TPU:4, TPU, 17179869184, 4011209745364763422)\n",
            "INFO:tensorflow:*** Available Device: _DeviceAttributes(/job:worker/replica:0/task:0/device:TPU:5, TPU, 17179869184, 2698093597458523753)\n",
            "INFO:tensorflow:*** Available Device: _DeviceAttributes(/job:worker/replica:0/task:0/device:TPU:6, TPU, 17179869184, 17496220325752889908)\n",
            "INFO:tensorflow:*** Available Device: _DeviceAttributes(/job:worker/replica:0/task:0/device:TPU:7, TPU, 17179869184, 431695075964177455)\n",
            "INFO:tensorflow:*** Available Device: _DeviceAttributes(/job:worker/replica:0/task:0/device:TPU_SYSTEM:0, TPU_SYSTEM, 17179869184, 6296417616210573521)\n",
            "WARNING:tensorflow:tpu_model (from tensorflow.contrib.tpu.python.tpu.keras_support) is experimental and may change or be removed at any time, and without warning.\n",
            "INFO:tensorflow:Connecting to: b'grpc://10.112.192.154:8470'\n"
          ],
          "name": "stdout"
        }
      ]
    },
    {
      "metadata": {
        "id": "mL2-iKysKe_-",
        "colab_type": "text"
      },
      "cell_type": "markdown",
      "source": [
        "# Training Model"
      ]
    },
    {
      "metadata": {
        "id": "5FHRZNDq95fb",
        "colab_type": "code",
        "colab": {
          "base_uri": "https://localhost:8080/",
          "height": 1295
        },
        "outputId": "2f23e2e0-5730-4f37-b0be-c540aa6d226c"
      },
      "cell_type": "code",
      "source": [
        "history = tpu_model.fit_generator(\n",
        "    train_generator, \n",
        "    steps_per_epoch=nb_train_samples // batch_size,\n",
        "    epochs=30,\n",
        "    validation_data=validation_generator,\n",
        "    validation_steps=nb_validation_samples // batch_size\n",
        ")"
      ],
      "execution_count": 22,
      "outputs": [
        {
          "output_type": "stream",
          "text": [
            "Epoch 1/30\n",
            "INFO:tensorflow:New input shapes; (re-)compiling: mode=train, [TensorSpec(shape=(2, 150, 150, 3), dtype=tf.float32, name='conv2d_input0'), TensorSpec(shape=(2, 1), dtype=tf.float32, name='activation_4_target_10')]\n",
            "INFO:tensorflow:Overriding default placeholder.\n",
            "INFO:tensorflow:Remapping placeholder for conv2d_input\n",
            "INFO:tensorflow:Cloning RMSprop {'lr': 0.0010000000474974513, 'rho': 0.8999999761581421, 'decay': 0.0, 'epsilon': 1e-07}\n",
            "INFO:tensorflow:Get updates: Tensor(\"loss/mul:0\", shape=(), dtype=float32)\n",
            "INFO:tensorflow:Started compiling\n",
            "INFO:tensorflow:Finished compiling. Time elapsed: 5.363210916519165 secs\n",
            "INFO:tensorflow:Setting weights on TPU model.\n",
            "129/130 [============================>.] - ETA: 0s - loss: 0.6984 - acc: 0.5194INFO:tensorflow:New input shapes; (re-)compiling: mode=eval, [TensorSpec(shape=(2, 150, 150, 3), dtype=tf.float32, name='conv2d_input0'), TensorSpec(shape=(2, 1), dtype=tf.float32, name='activation_4_target_10')]\n",
            "INFO:tensorflow:Overriding default placeholder.\n",
            "INFO:tensorflow:Remapping placeholder for conv2d_input\n",
            "INFO:tensorflow:Cloning RMSprop {'lr': 0.0010000000474974513, 'rho': 0.8999999761581421, 'decay': 0.0, 'epsilon': 1e-07}\n",
            "INFO:tensorflow:Started compiling\n",
            "INFO:tensorflow:Finished compiling. Time elapsed: 4.38161563873291 secs\n",
            "130/130 [==============================] - 26s 203ms/step - loss: 0.6990 - acc: 0.5192 - val_loss: 0.6747 - val_acc: 0.5156\n",
            "Epoch 2/30\n",
            "130/130 [==============================] - 14s 110ms/step - loss: 0.6380 - acc: 0.6577 - val_loss: 0.6645 - val_acc: 0.6562\n",
            "Epoch 3/30\n",
            "130/130 [==============================] - 14s 110ms/step - loss: 0.6148 - acc: 0.6769 - val_loss: 0.5873 - val_acc: 0.6562\n",
            "Epoch 4/30\n",
            "130/130 [==============================] - 14s 109ms/step - loss: 0.6042 - acc: 0.6692 - val_loss: 0.6042 - val_acc: 0.6094\n",
            "Epoch 5/30\n",
            "130/130 [==============================] - 14s 109ms/step - loss: 0.5776 - acc: 0.7154 - val_loss: 0.5895 - val_acc: 0.7344\n",
            "Epoch 6/30\n",
            "130/130 [==============================] - 14s 109ms/step - loss: 0.5565 - acc: 0.7154 - val_loss: 1.1257 - val_acc: 0.4844\n",
            "Epoch 7/30\n",
            "130/130 [==============================] - 14s 109ms/step - loss: 0.5015 - acc: 0.7731 - val_loss: 0.5735 - val_acc: 0.6562\n",
            "Epoch 8/30\n",
            "130/130 [==============================] - 14s 109ms/step - loss: 0.5143 - acc: 0.7231 - val_loss: 0.5590 - val_acc: 0.7656\n",
            "Epoch 9/30\n",
            "130/130 [==============================] - 14s 109ms/step - loss: 0.5055 - acc: 0.7692 - val_loss: 0.5223 - val_acc: 0.6719\n",
            "Epoch 10/30\n",
            "130/130 [==============================] - 14s 109ms/step - loss: 0.5045 - acc: 0.7577 - val_loss: 0.4409 - val_acc: 0.8750\n",
            "Epoch 11/30\n",
            "130/130 [==============================] - 14s 109ms/step - loss: 0.4914 - acc: 0.7692 - val_loss: 0.4537 - val_acc: 0.8125\n",
            "Epoch 12/30\n",
            "130/130 [==============================] - 14s 109ms/step - loss: 0.5695 - acc: 0.7154 - val_loss: 0.6041 - val_acc: 0.7031\n",
            "Epoch 13/30\n",
            "130/130 [==============================] - 14s 110ms/step - loss: 0.4631 - acc: 0.8231 - val_loss: 0.4947 - val_acc: 0.7500\n",
            "Epoch 14/30\n",
            "130/130 [==============================] - 14s 109ms/step - loss: 0.4330 - acc: 0.7808 - val_loss: 0.8121 - val_acc: 0.6562\n",
            "Epoch 15/30\n",
            "130/130 [==============================] - 14s 109ms/step - loss: 0.4966 - acc: 0.7731 - val_loss: 0.5614 - val_acc: 0.6875\n",
            "Epoch 16/30\n",
            "130/130 [==============================] - 14s 109ms/step - loss: 0.4840 - acc: 0.8077 - val_loss: 0.5140 - val_acc: 0.7188\n",
            "Epoch 17/30\n",
            "130/130 [==============================] - 14s 110ms/step - loss: 0.4700 - acc: 0.7885 - val_loss: 0.4714 - val_acc: 0.8281\n",
            "Epoch 18/30\n",
            "130/130 [==============================] - 14s 110ms/step - loss: 0.4518 - acc: 0.7654 - val_loss: 0.5651 - val_acc: 0.6719\n",
            "Epoch 19/30\n",
            "130/130 [==============================] - 14s 110ms/step - loss: 0.4267 - acc: 0.7923 - val_loss: 0.5385 - val_acc: 0.7656\n",
            "Epoch 20/30\n",
            "130/130 [==============================] - 14s 109ms/step - loss: 0.4158 - acc: 0.8077 - val_loss: 0.6445 - val_acc: 0.6875\n",
            "Epoch 21/30\n",
            "130/130 [==============================] - 14s 109ms/step - loss: 0.4478 - acc: 0.8038 - val_loss: 0.5638 - val_acc: 0.7812\n",
            "Epoch 22/30\n",
            "130/130 [==============================] - 14s 111ms/step - loss: 0.4181 - acc: 0.8269 - val_loss: 0.4615 - val_acc: 0.8594\n",
            "Epoch 23/30\n",
            "130/130 [==============================] - 15s 117ms/step - loss: 0.4267 - acc: 0.8308 - val_loss: 0.5352 - val_acc: 0.7969\n",
            "Epoch 24/30\n",
            "130/130 [==============================] - 14s 110ms/step - loss: 0.3369 - acc: 0.8615 - val_loss: 0.5966 - val_acc: 0.7344\n",
            "Epoch 25/30\n",
            "130/130 [==============================] - 14s 110ms/step - loss: 0.4540 - acc: 0.7962 - val_loss: 0.5501 - val_acc: 0.7344\n",
            "Epoch 26/30\n",
            "130/130 [==============================] - 14s 109ms/step - loss: 0.4617 - acc: 0.7692 - val_loss: 0.7802 - val_acc: 0.6562\n",
            "Epoch 27/30\n",
            "130/130 [==============================] - 14s 110ms/step - loss: 0.4766 - acc: 0.7962 - val_loss: 0.5850 - val_acc: 0.7969\n",
            "Epoch 28/30\n",
            "130/130 [==============================] - 14s 109ms/step - loss: 0.3876 - acc: 0.8538 - val_loss: 0.4863 - val_acc: 0.7656\n",
            "Epoch 29/30\n",
            "130/130 [==============================] - 14s 109ms/step - loss: 0.3847 - acc: 0.8231 - val_loss: 0.6234 - val_acc: 0.7344\n",
            "Epoch 30/30\n",
            "130/130 [==============================] - 14s 109ms/step - loss: 0.4267 - acc: 0.8154 - val_loss: 0.4185 - val_acc: 0.7812\n"
          ],
          "name": "stdout"
        }
      ]
    },
    {
      "metadata": {
        "id": "bv01gV-mQENt",
        "colab_type": "code",
        "colab": {
          "base_uri": "https://localhost:8080/",
          "height": 51
        },
        "outputId": "4301aba9-758f-4c20-c3d8-a9cdc31d8dbd"
      },
      "cell_type": "code",
      "source": [
        "tpu_model.save_weights('model_weights.h5')\n",
        "tpu_model.save('model_keras.h5')"
      ],
      "execution_count": 23,
      "outputs": [
        {
          "output_type": "stream",
          "text": [
            "INFO:tensorflow:Copying TPU weights to the CPU\n",
            "INFO:tensorflow:Copying TPU weights to the CPU\n"
          ],
          "name": "stdout"
        }
      ]
    },
    {
      "metadata": {
        "id": "-sQ7e0xaUZmp",
        "colab_type": "text"
      },
      "cell_type": "markdown",
      "source": [
        "# Acknowledgment \n",
        "Thanks to [sarvajna](https://www.kaggle.com/sarvajna/dogs-vs-cats-keras-solution)"
      ]
    }
  ]
}